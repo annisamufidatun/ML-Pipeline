{
 "cells": [
  {
   "cell_type": "code",
   "execution_count": 1,
   "metadata": {},
   "outputs": [],
   "source": [
    "import requests\n",
    "import tensorflow as tf\n",
    "import numpy as np\n",
    "import json\n",
    "import matplotlib.pyplot as plt\n",
    "import pandas as pd\n",
    "import base64"
   ]
  },
  {
   "cell_type": "code",
   "execution_count": 2,
   "metadata": {},
   "outputs": [
    {
     "data": {
      "text/html": [
       "<div>\n",
       "<style scoped>\n",
       "    .dataframe tbody tr th:only-of-type {\n",
       "        vertical-align: middle;\n",
       "    }\n",
       "\n",
       "    .dataframe tbody tr th {\n",
       "        vertical-align: top;\n",
       "    }\n",
       "\n",
       "    .dataframe thead th {\n",
       "        text-align: right;\n",
       "    }\n",
       "</style>\n",
       "<table border=\"1\" class=\"dataframe\">\n",
       "  <thead>\n",
       "    <tr style=\"text-align: right;\">\n",
       "      <th></th>\n",
       "      <th>message</th>\n",
       "      <th>sentiment</th>\n",
       "    </tr>\n",
       "  </thead>\n",
       "  <tbody>\n",
       "    <tr>\n",
       "      <th>0</th>\n",
       "      <td>I really enjoyed the movie</td>\n",
       "      <td>1</td>\n",
       "    </tr>\n",
       "    <tr>\n",
       "      <th>1</th>\n",
       "      <td>The food was terrible</td>\n",
       "      <td>0</td>\n",
       "    </tr>\n",
       "    <tr>\n",
       "      <th>2</th>\n",
       "      <td>I'm not sure how I feel about this</td>\n",
       "      <td>1</td>\n",
       "    </tr>\n",
       "    <tr>\n",
       "      <th>3</th>\n",
       "      <td>The service was excellent</td>\n",
       "      <td>1</td>\n",
       "    </tr>\n",
       "    <tr>\n",
       "      <th>4</th>\n",
       "      <td>I had a bad experience</td>\n",
       "      <td>0</td>\n",
       "    </tr>\n",
       "    <tr>\n",
       "      <th>...</th>\n",
       "      <td>...</td>\n",
       "      <td>...</td>\n",
       "    </tr>\n",
       "    <tr>\n",
       "      <th>579</th>\n",
       "      <td>I have to cancel my vacation plans because I c...</td>\n",
       "      <td>0</td>\n",
       "    </tr>\n",
       "    <tr>\n",
       "      <th>580</th>\n",
       "      <td>My computer crashed and I lost all my importan...</td>\n",
       "      <td>0</td>\n",
       "    </tr>\n",
       "    <tr>\n",
       "      <th>581</th>\n",
       "      <td>I got into a car accident and my car is totale...</td>\n",
       "      <td>0</td>\n",
       "    </tr>\n",
       "    <tr>\n",
       "      <th>582</th>\n",
       "      <td>I have a cold and can't stop coughing. it's re...</td>\n",
       "      <td>0</td>\n",
       "    </tr>\n",
       "    <tr>\n",
       "      <th>583</th>\n",
       "      <td>I just found out my ex is dating someone new. ...</td>\n",
       "      <td>0</td>\n",
       "    </tr>\n",
       "  </tbody>\n",
       "</table>\n",
       "<p>584 rows × 2 columns</p>\n",
       "</div>"
      ],
      "text/plain": [
       "                                               message  sentiment\n",
       "0                           I really enjoyed the movie          1\n",
       "1                                The food was terrible          0\n",
       "2                   I'm not sure how I feel about this          1\n",
       "3                            The service was excellent          1\n",
       "4                               I had a bad experience          0\n",
       "..                                                 ...        ...\n",
       "579  I have to cancel my vacation plans because I c...          0\n",
       "580  My computer crashed and I lost all my importan...          0\n",
       "581  I got into a car accident and my car is totale...          0\n",
       "582  I have a cold and can't stop coughing. it's re...          0\n",
       "583  I just found out my ex is dating someone new. ...          0\n",
       "\n",
       "[584 rows x 2 columns]"
      ]
     },
     "execution_count": 2,
     "metadata": {},
     "output_type": "execute_result"
    }
   ],
   "source": [
    "df = pd.read_csv(r'D:\\tugas\\mlops\\proyek_pertama\\data\\data.csv')\n",
    "df"
   ]
  },
  {
   "cell_type": "code",
   "execution_count": 3,
   "metadata": {},
   "outputs": [
    {
     "data": {
      "text/plain": [
       "0                             I really enjoyed the movie\n",
       "1                                  The food was terrible\n",
       "2                     I'm not sure how I feel about this\n",
       "3                              The service was excellent\n",
       "4                                 I had a bad experience\n",
       "                             ...                        \n",
       "579    I have to cancel my vacation plans because I c...\n",
       "580    My computer crashed and I lost all my importan...\n",
       "581    I got into a car accident and my car is totale...\n",
       "582    I have a cold and can't stop coughing. it's re...\n",
       "583    I just found out my ex is dating someone new. ...\n",
       "Name: message, Length: 584, dtype: object"
      ]
     },
     "execution_count": 3,
     "metadata": {},
     "output_type": "execute_result"
    }
   ],
   "source": [
    "df['message']"
   ]
  },
  {
   "cell_type": "code",
   "execution_count": 4,
   "metadata": {},
   "outputs": [
    {
     "data": {
      "text/plain": [
       "'The food was terrible'"
      ]
     },
     "execution_count": 4,
     "metadata": {},
     "output_type": "execute_result"
    }
   ],
   "source": [
    "testing = df['message'][1]\n",
    "testing"
   ]
  },
  {
   "cell_type": "markdown",
   "metadata": {},
   "source": [
    "## Make prediction request"
   ]
  },
  {
   "cell_type": "code",
   "execution_count": 5,
   "metadata": {},
   "outputs": [
    {
     "name": "stdout",
     "output_type": "stream",
     "text": [
      "Error: No predictions found in response.\n"
     ]
    }
   ],
   "source": [
    "def prepare_json(text):\n",
    "    feature_spec = {\n",
    "        \"text\": tf.train.Feature(bytes_list=tf.train.BytesList(value=[bytes(text, \"utf-8\")])),\n",
    "    }\n",
    "    \n",
    "    example = tf.train.Example(\n",
    "        features=tf.train.Features(feature=feature_spec)\n",
    "    ).SerializeToString()\n",
    "    \n",
    "    result = [\n",
    "        {\n",
    "            \"examples\": {\n",
    "                \"b64\": base64.b64encode(example).decode()\n",
    "            }\n",
    "        }\n",
    "    ]\n",
    "    \n",
    "    return json.dumps({\n",
    "        \"signature_name\": \"serving_default\",\n",
    "        \"instances\": result\n",
    "    })\n",
    "\n",
    "json_data = prepare_json(testing)\n",
    "\n",
    "endpoint = \"http://localhost:8080/v1/models/chat_sentiment-model:predict\"\n",
    "response = requests.post(endpoint, data=json_data)\n",
    "\n",
    "prediction = response.json().get(\"predictions\")\n",
    "if prediction:\n",
    "    prediction_value = prediction[0][0]\n",
    "    result = \"Positive\" if prediction_value > 0.75 else \"Negative\"\n",
    "else:\n",
    "    result = \"Error: No predictions found in response.\"\n",
    "\n",
    "print(result)"
   ]
  }
 ],
 "metadata": {
  "kernelspec": {
   "display_name": "Python 3.8.13 ('tfx_mlops')",
   "language": "python",
   "name": "python3"
  },
  "language_info": {
   "codemirror_mode": {
    "name": "ipython",
    "version": 3
   },
   "file_extension": ".py",
   "mimetype": "text/x-python",
   "name": "python",
   "nbconvert_exporter": "python",
   "pygments_lexer": "ipython3",
   "version": "3.9.15"
  },
  "orig_nbformat": 4,
  "vscode": {
   "interpreter": {
    "hash": "455335cfd909c56542285c78762a473177bc2f2ae50e7dcd1861467146f8b87f"
   }
  }
 },
 "nbformat": 4,
 "nbformat_minor": 2
}
